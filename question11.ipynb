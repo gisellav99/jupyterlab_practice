{
 "cells": [
  {
   "cell_type": "markdown",
   "id": "f06400a6-cd65-4ed0-88b6-390e95f550ef",
   "metadata": {},
   "source": [
    "# Gisella Vizhnay\n",
    "Notebook for assignment 7"
   ]
  },
  {
   "cell_type": "code",
   "execution_count": 3,
   "id": "c1337fe8-1558-4cae-b5b5-f3e56dd264a9",
   "metadata": {},
   "outputs": [
    {
     "name": "stdout",
     "output_type": "stream",
     "text": [
      "5.0\n"
     ]
    }
   ],
   "source": [
    "\n",
    "def compute_mean(numbers):\n",
    "    mean = sum(numbers)/len(numbers)\n",
    "    print(mean)\n",
    "\n",
    "compute_mean([2,4,6,8])\n"
   ]
  },
  {
   "cell_type": "markdown",
   "id": "5e75c10e-a4d4-4c95-a712-4d3b7164723e",
   "metadata": {},
   "source": [
    "$$\\bar{x}= \\frac{x_1 + x_2 + \\cdots + x_n}{n} = \\frac{1}{n} (\\sum_{i=1}^{n} x_i)  $$"
   ]
  },
  {
   "cell_type": "code",
   "execution_count": null,
   "id": "f7879c99-d18e-496c-817f-9bd74442de71",
   "metadata": {},
   "outputs": [],
   "source": []
  }
 ],
 "metadata": {
  "kernelspec": {
   "display_name": "Python 3 (ipykernel)",
   "language": "python",
   "name": "python3"
  },
  "language_info": {
   "codemirror_mode": {
    "name": "ipython",
    "version": 3
   },
   "file_extension": ".py",
   "mimetype": "text/x-python",
   "name": "python",
   "nbconvert_exporter": "python",
   "pygments_lexer": "ipython3",
   "version": "3.13.5"
  }
 },
 "nbformat": 4,
 "nbformat_minor": 5
}
