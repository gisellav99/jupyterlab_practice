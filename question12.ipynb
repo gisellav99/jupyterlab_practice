{
 "cells": [
  {
   "cell_type": "markdown",
   "id": "a9380298-ab2a-422e-9bb7-6d2f2a14190d",
   "metadata": {},
   "source": [
    "We are currently working in the following directory:"
   ]
  },
  {
   "cell_type": "code",
   "execution_count": 1,
   "id": "6d2f906b-37d3-4318-ba19-e82b012ea8d1",
   "metadata": {},
   "outputs": [
    {
     "name": "stdout",
     "output_type": "stream",
     "text": [
      "/Users/santiago/Documents/Toolbox/jupyterlab_practice\n"
     ]
    }
   ],
   "source": [
    "\n",
    "!pwd\n"
   ]
  },
  {
   "cell_type": "markdown",
   "id": "8605975b-fdf1-4212-a27d-5773d84e16ee",
   "metadata": {},
   "source": [
    "To time how long it takes to run a Python cell, we could use the timeit command inside a cell as is shown below:\n",
    "\n",
    "```python\n",
    "%%timeit\n",
    "for i in range(1_000_000):\n",
    "    i**2\n"
   ]
  },
  {
   "cell_type": "code",
   "execution_count": 2,
   "id": "10214c77-9317-4bab-b7fe-8a849674c8fd",
   "metadata": {},
   "outputs": [
    {
     "name": "stdout",
     "output_type": "stream",
     "text": [
      "[NbConvertApp] Converting notebook question12.ipynb to html\n",
      "[NbConvertApp] Writing 271457 bytes to question12.html\n"
     ]
    }
   ],
   "source": [
    "\n",
    "!jupyter nbconvert --to html --no-input question12.ipynb"
   ]
  },
  {
   "cell_type": "code",
   "execution_count": null,
   "id": "9184a205-2c85-4fba-b77b-93b96c1bb558",
   "metadata": {},
   "outputs": [],
   "source": []
  }
 ],
 "metadata": {
  "kernelspec": {
   "display_name": "Python 3 (ipykernel)",
   "language": "python",
   "name": "python3"
  },
  "language_info": {
   "codemirror_mode": {
    "name": "ipython",
    "version": 3
   },
   "file_extension": ".py",
   "mimetype": "text/x-python",
   "name": "python",
   "nbconvert_exporter": "python",
   "pygments_lexer": "ipython3",
   "version": "3.13.5"
  }
 },
 "nbformat": 4,
 "nbformat_minor": 5
}
